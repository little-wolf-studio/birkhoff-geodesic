{
 "cells": [
  {
   "cell_type": "markdown",
   "metadata": {},
   "source": [
    "This is a short notebook to explore alternative ways of calculating curve length. Given a curve $\\gamma : [0,1] \\rightarrow \\mathbb R^d$ we define it's length on an isotropic Riemannian manifold as\n",
    "$$L[\\gamma] = \\int_0^1a(\\gamma(t))\\|\\gamma'(t)\\| dt.$$\n",
    "Where $0 < \\alpha_1 \\leq a \\leq \\alpha_2$.\n",
    "Suppose that our approximation of $\\gamma$, denoted $\\tilde \\gamma$, is the piecewise linear interpolation of the points $\\{\\mathbf x_i\\}_{i=0,...,N} \\subset \\mathbb R^d$. To define an explicit parameterisation fix $i \\in \\{1,...,N\\}$. Then we have\n",
    "$$\\tilde \\gamma(t) = N(\\mathbf x_i - \\mathbf x_{i-1})\\left(t - \\frac{i-1}{N}\\right) + \\mathbf x_{i-1} \\text{ in } t \\in \\left[ \\frac{i-1}{N}, \\frac{i}{N} \\right).$$\n",
    "Consequently, we have, by splitting the integral\n",
    "$$L[\\tilde \\gamma] = \\sum_{i=1}^N \\int_{(i-1)/N}^{i/N}a(\\tilde \\gamma(t))\\|\\tilde \\gamma'(t)\\| dt. $$\n",
    "Using the explicit parameterisation for $\\tilde \\gamma$\n",
    "$$\\int_{(i-1)/N}^{i/N}a(\\tilde \\gamma(t))\\|\\tilde \\gamma'(t)\\| dt = \\int_{(i-1)/N}^{i/N}a(\\tilde \\gamma(t))\\|N(\\mathbf x_i - \\mathbf x_{i-1})\\| dt \\\\= N\\|\\mathbf x_i - \\mathbf x_{i-1}\\|\\int_{(i-1)/N}^{i/N}a(\\tilde \\gamma(t)) dt.$$\n",
    "Denote the composite uniform trapezoidal rule as $T(M,x_0,x_1,f)$ where $1/M$ is the mesh size, $x_0, x_1$ are the limits of the integral and $f$ is the integrand. As the leading term of the error for the composite trapezoial rule, on the $i^{th}$ interval is\n",
    "$$-\\frac{1}{2M^2}\\left(\\frac{i}{N} - \\frac{i-1}{N}\\right)^2\\left((a \\circ \\tilde \\gamma)'(i/N)-(a \\circ \\tilde \\gamma)'((i-1)/N)\\right) \\\\ =-\\frac{1}{2M^2N^2}\\left((a \\circ \\tilde \\gamma)'(i/N)-(a \\circ \\tilde \\gamma)'((i-1)/N)\\right).$$\n",
    "Since\n",
    "$$(a \\circ \\tilde \\gamma)'(x)=a'(\\tilde \\gamma(x)) \\cdot \\tilde \\gamma'(x)$$\n",
    "it follows that\n",
    "$$(a \\circ \\tilde \\gamma)'(i/N)-(a \\circ \\tilde \\gamma)'((i-1)/N) \\\\= a'(\\tilde \\gamma(i/N)) \\cdot \\tilde \\gamma'(i/N) - a'(\\tilde \\gamma((i-1)/N)) \\cdot \\tilde \\gamma'((i-1)/N)\\\\= a'(\\mathbf x_i) \\cdot \\tilde \\gamma'(i/N) - a'(\\mathbf x_{i-1}) \\cdot \\tilde \\gamma'((i-1)/N) \\\\=a'(\\mathbf x_i) \\cdot N(\\mathbf x_{i+1} - \\mathbf x_{i}) - a'(\\mathbf x_{i-1}) \\cdot N(\\mathbf x_i - \\mathbf x_{i-1}) \\\\= \\left(a'(\\mathbf x_i) - a'(\\mathbf x_{i-1})\\right) \\cdot N(\\mathbf x_i - \\mathbf x_{i-1}).$$\n",
    "There error therefore becomes\n",
    "$$-\\frac{1}{2M^2N^2}\\left(a'(\\mathbf x_i) - a'(\\mathbf x_{i-1})\\right) \\cdot N(\\mathbf x_i - \\mathbf x_{i-1}).$$\n",
    "The length is therefore\n",
    "$$L[\\tilde \\gamma] = \\sum_{i=1}^N N\\|\\mathbf x_i - \\mathbf x_{i-1}\\|T\\left(M,\\frac{i-1}{N},\\frac{i}{N},a \\circ \\tilde \\gamma \\right) + O(N/M^2)$$"
   ]
  },
  {
   "cell_type": "markdown",
   "metadata": {},
   "source": [
    "$$\\bar{y}(t) = \\mathbf{x_{i-1}} + t(\\mathbf{x}_i - \\mathbf{x}_{i-1}) \\, \\mathrm{in}\\, t \\in [0, 1)$$"
   ]
  },
  {
   "cell_type": "code",
   "execution_count": 1,
   "metadata": {},
   "outputs": [],
   "source": [
    "from typing import Callable\n",
    "import numpy as np\n",
    "\n",
    "\n",
    "def approximate_integral_line_segment(line_segment_index: int,\n",
    "                                      line_segment_count: int,\n",
    "                                      trapezoid_count: int,\n",
    "                                      a: Callable[[np.ndarray], np.ndarray]) -> float:\n",
    "    \"\"\"\n",
    "    Args:\n",
    "        line_segment_index: i\n",
    "        trapezoid_count: M\n",
    "        line_segment_count: N\n",
    "        a: \\mathbb{R} \\rightarrow \\mathbb{R}\n",
    "    \"\"\"\n",
    "    start_time = (line_segment_index - 1) / line_segment_count\n",
    "    stop_time = line_segment_index / line_segment_count\n",
    "    ts = np.linspace(start_time, stop_time, trapezoid_count)  # shape: (trapezoid_count,)\n",
    "    ys = a(ts)\n",
    "    return np.trapz(ys, ts)"
   ]
  },
  {
   "cell_type": "code",
   "execution_count": 2,
   "metadata": {},
   "outputs": [
    {
     "name": "stdout",
     "output_type": "stream",
     "text": [
      "(19, 9, 5)\n"
     ]
    },
    {
     "data": {
      "text/plain": [
       "41.65026329112853"
      ]
     },
     "execution_count": 2,
     "metadata": {},
     "output_type": "execute_result"
    }
   ],
   "source": [
    "N = 20  # number of points on the global curve\n",
    "line_segment_count = 9  # M\n",
    "dimensionality = 5\n",
    "xs = np.random.randn(N, dimensionality)\n",
    "diff = xs[1:] - xs[:-1]\n",
    "interpolation_factors = np.linspace(0, 1, line_segment_count)\n",
    "# diff:                                 shape(N-1, dimensionality)\n",
    "# diff[..., np.newaxis, :]:             shape(N-1, 1, dimensionality)\n",
    "# interpolation_factors[:, np.newaxis]: shape(line_segment_count, 1)\n",
    "# xs[:-1, ..., np.newaxis, :]:          shape(N-1, 1, dimensionality)\n",
    "line_segment_things = diff[..., np.newaxis, :] * interpolation_factors[:, np.newaxis] + xs[:-1, ..., np.newaxis, :]\n",
    "line_segment_things.shape\n",
    "\n",
    "def metric_fn(xs: np.ndarray, beta=0.6, weights=None):\n",
    "    if weights is None:\n",
    "        weights = np.ones(xs.shape[-1])\n",
    "    return np.exp(-beta * (xs @ weights))\n",
    "\n",
    "print(line_segment_things.shape)\n",
    "metric_values = metric_fn(line_segment_things)\n",
    "\n",
    "# length of curve\n",
    "np.trapz(metric_values, dx=(1 / line_segment_count), axis=-1).sum()"
   ]
  },
  {
   "cell_type": "code",
   "execution_count": 3,
   "metadata": {},
   "outputs": [
    {
     "data": {
      "text/plain": [
       "0.3333375419812631"
      ]
     },
     "execution_count": 3,
     "metadata": {},
     "output_type": "execute_result"
    }
   ],
   "source": [
    "approximate_integral_line_segment(1, 1, 200, lambda x: x**2)"
   ]
  }
 ],
 "metadata": {
  "kernelspec": {
   "display_name": "Python 3",
   "language": "python",
   "name": "python3"
  },
  "language_info": {
   "codemirror_mode": {
    "name": "ipython",
    "version": 3
   },
   "file_extension": ".py",
   "mimetype": "text/x-python",
   "name": "python",
   "nbconvert_exporter": "python",
   "pygments_lexer": "ipython3",
   "version": "3.8.1"
  }
 },
 "nbformat": 4,
 "nbformat_minor": 4
}
