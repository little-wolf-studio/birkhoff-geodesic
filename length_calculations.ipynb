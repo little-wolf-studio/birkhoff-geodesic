{
 "cells": [
  {
   "cell_type": "markdown",
   "metadata": {},
   "source": [
    "This is a short notebook to explore alternative ways of calculating curve length. Given a curve $\\gamma : [0,1] \\rightarrow \\mathbb R^d$ we define it's length on an isotropic Riemannian manifold as\n",
    "$$L[\\gamma] = \\int_0^1a(\\gamma(t))\\|\\gamma'(t)\\| dt.$$\n",
    "Where $0 < \\alpha_1 \\leq a \\leq \\alpha_2$.\n",
    "Suppose that our approximation of $\\gamma$, denoted $\\tilde \\gamma$, is the piecewise linear interpolation of the points $\\{\\mathbf x_i\\}_{i=0,...,N} \\subset \\mathbb R^d$. To define an explicit parameterisation fix $i \\in \\{1,...,N\\}$. Then we have\n",
    "$$\\tilde \\gamma(t) = N(\\mathbf x_i - \\mathbf x_{i-1})\\left(t - \\frac{i-1}{N}\\right) + \\mathbf x_{i-1} \\text{ for } t \\in \\left[ \\frac{i-1}{N}, \\frac{i}{N} \\right).$$\n",
    "Consequently, we have, by splitting the integral\n",
    "$$L[\\tilde \\gamma] = \\sum_{i=1}^N \\int_{(i-1)/N}^{i/N}a(\\tilde \\gamma(t))\\|\\tilde \\gamma'(t)\\| dt. $$\n",
    "Using the explicit parameterisation for $\\tilde \\gamma$\n",
    "$$\\int_{(i-1)/N}^{i/N}a(\\tilde \\gamma(t))\\|\\tilde \\gamma'(t)\\| dt = \\int_{(i-1)/N}^{i/N}a(\\tilde \\gamma(t))\\|N(\\mathbf x_i - \\mathbf x_{i-1})\\| dt \\\\= N\\|\\mathbf x_i - \\mathbf x_{i-1}\\|\\int_{(i-1)/N}^{i/N}a(\\tilde \\gamma(t)) dt.$$\n",
    "Denote the composite uniform trapezoidal rule as $T(M,x_0,x_1,f)$ where $M$ is the mesh size, $x_0, x_1$ are the limits of the integral and $f$ is the integrand. As the leading term of the error for the composite trapezoial rule, on the $i^{th}$ interval is\n",
    "$$-\\frac{1}{2M^2}\\left(\\frac{i}{N} - \\frac{i-1}{N}\\right)^2\\left((a \\circ \\tilde \\gamma)'(i/N)-(a \\circ \\tilde \\gamma)'((i-1)/N)\\right) \\\\ =-\\frac{1}{2M^2N^2}\\left((a \\circ \\tilde \\gamma)'(i/N)-(a \\circ \\tilde \\gamma)'((i-1)/N)\\right).$$\n",
    "Since\n",
    "$$(a \\circ \\tilde \\gamma)'(x)=a'(\\tilde \\gamma(x)) \\cdot \\tilde \\gamma'(x)$$\n",
    "it follows that\n",
    "$$(a \\circ \\tilde \\gamma)'(i/N)-(a \\circ \\tilde \\gamma)'((i-1)/N) \\\\= a'(\\tilde \\gamma(i/N)) \\cdot \\tilde \\gamma'(i/N) - a'(\\tilde \\gamma((i-1)/N)) \\cdot \\tilde \\gamma'((i-1)/N)\\\\= a'(\\mathbf x_i) \\cdot \\tilde \\gamma'(i/N) - a'(\\mathbf x_{i-1}) \\cdot \\tilde \\gamma'((i-1)/N) \\\\=a'(\\mathbf x_i) \\cdot N(\\mathbf x_{i+1} - \\mathbf x_{i}) - a'(\\mathbf x_{i-1}) \\cdot N(\\mathbf x_i - \\mathbf x_{i-1}) \\\\= \\left(a'(\\mathbf x_i) - a'(\\mathbf x_{i-1})\\right) \\cdot N(\\mathbf x_i - \\mathbf x_{i-1}).$$\n",
    "There error therefore becomes\n",
    "$$-\\frac{1}{2M^2N^2}\\left(a'(\\mathbf x_i) - a'(\\mathbf x_{i-1})\\right) \\cdot N(\\mathbf x_i - \\mathbf x_{i-1}).$$\n",
    "The length is therefore\n",
    "$$L[\\tilde \\gamma] = \\sum_{i=1}^N N\\|\\mathbf x_i - \\mathbf x_{i-1}\\|T\\left(M,\\frac{i-1}{N},\\frac{i}{N},a \\circ \\tilde \\gamma \\right) + O(N/M^2)$$"
   ]
  },
  {
   "cell_type": "code",
   "execution_count": null,
   "metadata": {},
   "outputs": [],
   "source": []
  }
 ],
 "metadata": {
  "kernelspec": {
   "display_name": "Python 3",
   "language": "python",
   "name": "python3"
  },
  "language_info": {
   "codemirror_mode": {
    "name": "ipython",
    "version": 3
   },
   "file_extension": ".py",
   "mimetype": "text/x-python",
   "name": "python",
   "nbconvert_exporter": "python",
   "pygments_lexer": "ipython3",
   "version": "3.7.4"
  }
 },
 "nbformat": 4,
 "nbformat_minor": 2
}
