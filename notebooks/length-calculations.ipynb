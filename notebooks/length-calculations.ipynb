{
 "cells": [
  {
   "cell_type": "markdown",
   "metadata": {},
   "source": [
    "This is a short notebook to explore alternative ways of calculating curve length. Given a curve $\\gamma : [0,1] \\rightarrow \\mathbb R^d$ we define it's length on an isotropic Riemannian manifold as\n",
    "$$L[\\gamma] = \\int_0^1a(\\gamma(t))\\|\\gamma'(t)\\| dt.$$\n",
    "Where $0 < \\alpha_1 \\leq a \\leq \\alpha_2$.\n",
    "Suppose that our approximation of $\\gamma$, denoted $\\tilde \\gamma$, is the piecewise linear interpolation of the points $\\{\\mathbf x_i\\}_{i=0,...,N} \\subset \\mathbb R^d$. To define an explicit parameterisation fix $i \\in \\{1,...,N\\}$. Then we have\n",
    "$$\\tilde \\gamma(t) = N(\\mathbf x_i - \\mathbf x_{i-1})\\left(t - \\frac{i-1}{N}\\right) + \\mathbf x_{i-1} \\text{ in } t \\in \\left[ \\frac{i-1}{N}, \\frac{i}{N} \\right).$$\n",
    "Consequently, we have, by splitting the integral\n",
    "$$L[\\tilde \\gamma] = \\sum_{i=1}^N \\int_{(i-1)/N}^{i/N}a(\\tilde \\gamma(t))\\|\\tilde \\gamma'(t)\\| dt. $$\n",
    "Using the explicit parameterisation for $\\tilde \\gamma$\n",
    "$$\\int_{(i-1)/N}^{i/N}a(\\tilde \\gamma(t))\\|\\tilde \\gamma'(t)\\| dt = \\int_{(i-1)/N}^{i/N}a(\\tilde \\gamma(t))\\|N(\\mathbf x_i - \\mathbf x_{i-1})\\| dt \\\\= N\\|\\mathbf x_i - \\mathbf x_{i-1}\\|\\int_{(i-1)/N}^{i/N}a(\\tilde \\gamma(t)) dt.$$\n",
    "Denote the composite uniform trapezoidal rule as $T(M,x_0,x_1,f)$ where $1/M$ is the mesh size, $x_0, x_1$ are the limits of the integral and $f$ is the integrand. As the leading term of the error for the composite trapezoial rule, on the $i^{th}$ interval is\n",
    "$$-\\frac{1}{2M^2}\\left(\\frac{i}{N} - \\frac{i-1}{N}\\right)^2\\left((a \\circ \\tilde \\gamma)'(i/N)-(a \\circ \\tilde \\gamma)'((i-1)/N)\\right) \\\\ =-\\frac{1}{2M^2N^2}\\left((a \\circ \\tilde \\gamma)'(i/N)-(a \\circ \\tilde \\gamma)'((i-1)/N)\\right).$$\n",
    "Since\n",
    "$$(a \\circ \\tilde \\gamma)'(x)=a'(\\tilde \\gamma(x)) \\cdot \\tilde \\gamma'(x)$$\n",
    "it follows that\n",
    "$$(a \\circ \\tilde \\gamma)'(i/N)-(a \\circ \\tilde \\gamma)'((i-1)/N) \\\\= a'(\\tilde \\gamma(i/N)) \\cdot \\tilde \\gamma'(i/N) - a'(\\tilde \\gamma((i-1)/N)) \\cdot \\tilde \\gamma'((i-1)/N)\\\\= a'(\\mathbf x_i) \\cdot \\tilde \\gamma'(i/N) - a'(\\mathbf x_{i-1}) \\cdot \\tilde \\gamma'((i-1)/N) \\\\=a'(\\mathbf x_i) \\cdot N(\\mathbf x_{i+1} - \\mathbf x_{i}) - a'(\\mathbf x_{i-1}) \\cdot N(\\mathbf x_i - \\mathbf x_{i-1}) \\\\= \\left(a'(\\mathbf x_i) - a'(\\mathbf x_{i-1})\\right) \\cdot N(\\mathbf x_i - \\mathbf x_{i-1}).$$\n",
    "There error therefore becomes\n",
    "$$-\\frac{1}{2M^2N^2}\\left(a'(\\mathbf x_i) - a'(\\mathbf x_{i-1})\\right) \\cdot N(\\mathbf x_i - \\mathbf x_{i-1}).$$\n",
    "The length is therefore\n",
    "$$L[\\tilde \\gamma] = \\sum_{i=1}^N N\\|\\mathbf x_i - \\mathbf x_{i-1}\\|T\\left(M,\\frac{i-1}{N},\\frac{i}{N},a \\circ \\tilde \\gamma \\right) + O(N/M^2)$$"
   ]
  },
  {
   "cell_type": "markdown",
   "metadata": {},
   "source": [
    "$$\\bar{y}(t) = \\mathbf{x_{i-1}} + t(\\mathbf{x}_i - \\mathbf{x}_{i-1}) \\, \\mathrm{in}\\, t \\in [0, 1)$$"
   ]
  },
  {
   "cell_type": "code",
   "execution_count": 1,
   "metadata": {},
   "outputs": [],
   "source": [
    "import numpy as np\n",
    "from typing import Callable"
   ]
  },
  {
   "cell_type": "code",
   "execution_count": 2,
   "metadata": {},
   "outputs": [],
   "source": [
    "def compute_curve_length(\n",
    "    xs: np.ndarray,\n",
    "    metric_fn: Callable[[np.ndarray], np.ndarray],\n",
    "    *,\n",
    "    n_trapz_sample_points: int = 10,\n",
    ") -> float:\n",
    "    \"\"\"\n",
    "    Args:\n",
    "        xs: points representing the piece-wise linear curve, an array of shape :math:`(N, D)` where \n",
    "            :math:`N - 1` is the number of line segments and :math:`D` is the dimension of the problem space. \n",
    "        metric_fn: a callable that takes in an array of :math:`D`-dimensional points of shape :math:`(\\ldots, D)`\n",
    "            and returns the metric evaluated at each point to produce an array of shape :math:`(\\ldots)`.\n",
    "        n_trapz_sample_points: The number of points that each line segment is split into\n",
    "            which the metric_fn is evaluated at. This is used only within the evaluation of the \n",
    "            trapezoidal rule. Increasing this number will increase the precision of the approximation.\n",
    "            \n",
    "    Returns:\n",
    "        Approximated length of the curve specified by ``xs`` and ``metric_fn`` using the trapezoidal rule. \n",
    "        More specifically the approximation of the length of the curve ``xs`` in the isotropic Riemannian manifold \n",
    "        characterized by ``metric_fn``.\n",
    "        \n",
    "    See Also:\n",
    "        This function uses :py:func:`numpy.trapz` to perform the approximate integral along the curve.\n",
    "    \"\"\"\n",
    "    \n",
    "    diffs = xs[1:] - xs[:-1]  # (N - 1, D)\n",
    "    \n",
    "    trapz_sample_points = np.linspace(0, 1, n_trapz_sample_points)  # (M,)\n",
    "    sample_points = (\n",
    "        diffs[..., np.newaxis, :] *\n",
    "        trapz_sample_points[:, np.newaxis] +\n",
    "        xs[:-1, ..., np.newaxis, :]\n",
    "    )  # (N - 1, M, D)\n",
    "\n",
    "    metric_sample_values = metric_fn(sample_points)  # (N - 1, M)\n",
    "    norms = np.linalg.norm(diffs, axis=-1)  # (N - 1)\n",
    "    metric_coefficient_approximation = np.trapz(metric_sample_values, dx=(1 / (n_trapz_sample_points - 1)), axis=-1)  # (N - 1, M)\n",
    "    line_segment_lengths = (norms * metric_coefficient_approximation)\n",
    "    return line_segment_lengths.sum()"
   ]
  },
  {
   "cell_type": "code",
   "execution_count": 3,
   "metadata": {},
   "outputs": [],
   "source": [
    "# PROBLEM SET UP\n",
    "n_global_curve_points = 20  # N\n",
    "n_trapz_sample_points = 9  # M\n",
    "dimensionality = 5\n",
    "\n",
    "# This is the tent function\n",
    "def metric_fn(xs: np.ndarray, beta=0.6, weights=None):\n",
    "    if weights is None:\n",
    "        weights = np.ones(xs.shape[-1])\n",
    "    return np.exp(-beta * (xs @ weights))"
   ]
  },
  {
   "cell_type": "code",
   "execution_count": 4,
   "metadata": {},
   "outputs": [
    {
     "data": {
      "text/plain": [
       "5.45089654598387"
      ]
     },
     "execution_count": 4,
     "metadata": {},
     "output_type": "execute_result"
    }
   ],
   "source": [
    "# Example 1: Straight line\n",
    "xs = np.linspace(-2, 5, n_global_curve_points)\n",
    "xs = np.stack([xs] + [np.zeros(n_global_curve_points)] * (dimensionality - 1), axis=-1)\n",
    "compute_curve_length(xs, metric_fn, n_trapz_sample_points=n_trapz_sample_points)"
   ]
  },
  {
   "cell_type": "code",
   "execution_count": 5,
   "metadata": {},
   "outputs": [
    {
     "data": {
      "text/plain": [
       "102.54508034947423"
      ]
     },
     "execution_count": 5,
     "metadata": {},
     "output_type": "execute_result"
    }
   ],
   "source": [
    "# Example 2: Random line\n",
    "np.random.seed(42)\n",
    "xs = np.random.randn(n_global_curve_points, dimensionality)\n",
    "compute_curve_length(xs, metric_fn, n_trapz_sample_points=n_trapz_sample_points)"
   ]
  }
 ],
 "metadata": {
  "kernelspec": {
   "display_name": "Python 3",
   "language": "python",
   "name": "python3"
  },
  "language_info": {
   "codemirror_mode": {
    "name": "ipython",
    "version": 3
   },
   "file_extension": ".py",
   "mimetype": "text/x-python",
   "name": "python",
   "nbconvert_exporter": "python",
   "pygments_lexer": "ipython3",
   "version": "3.8.1"
  }
 },
 "nbformat": 4,
 "nbformat_minor": 4
}
